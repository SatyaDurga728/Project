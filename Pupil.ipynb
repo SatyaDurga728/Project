{
 "cells": [
  {
   "cell_type": "markdown",
   "metadata": {
    "id": "LnPbntVRnfvV"
   },
   "source": [
    "Importing the Dependencies"
   ]
  },
  {
   "cell_type": "code",
   "execution_count": 1,
   "metadata": {
    "executionInfo": {
     "elapsed": 383,
     "status": "ok",
     "timestamp": 1678755145854,
     "user": {
      "displayName": "Oruganti Satya Durga",
      "userId": "10010640176231433046"
     },
     "user_tz": -330
    },
    "id": "-71UtHzNVWjB"
   },
   "outputs": [],
   "source": [
    "import numpy as np\n",
    "import pandas as pd\n",
    "from sklearn.preprocessing import StandardScaler\n",
    "from sklearn.model_selection import train_test_split\n",
    "from sklearn import svm\n",
    "from sklearn.metrics import accuracy_score\n",
    "import matplotlib.pyplot as plt\n",
    "import seaborn as sns"
   ]
  },
  {
   "cell_type": "markdown",
   "metadata": {
    "id": "bmfOfG8joBBy"
   },
   "source": [
    "Data Collection and Analysis"
   ]
  },
  {
   "cell_type": "code",
   "execution_count": 2,
   "metadata": {
    "executionInfo": {
     "elapsed": 659,
     "status": "ok",
     "timestamp": 1678755147288,
     "user": {
      "displayName": "Oruganti Satya Durga",
      "userId": "10010640176231433046"
     },
     "user_tz": -330
    },
    "id": "Xpw6Mj_pn_TL"
   },
   "outputs": [],
   "source": [
    "# loading the diabetes dataset to a pandas DataFrame\n",
    "df = pd.read_csv('C:/Users/DELL/Downloads/satya/Gene.csv') "
   ]
  },
  {
   "cell_type": "code",
   "execution_count": 3,
   "metadata": {
    "colab": {
     "base_uri": "https://localhost:8080/",
     "height": 560
    },
    "executionInfo": {
     "elapsed": 21,
     "status": "ok",
     "timestamp": 1678755147300,
     "user": {
      "displayName": "Oruganti Satya Durga",
      "userId": "10010640176231433046"
     },
     "user_tz": -330
    },
    "id": "-tjO09ncovoh",
    "outputId": "d29d6f08-7bf8-4bf9-e6a7-0c755e44c61a"
   },
   "outputs": [
    {
     "data": {
      "text/html": [
       "<div>\n",
       "<style scoped>\n",
       "    .dataframe tbody tr th:only-of-type {\n",
       "        vertical-align: middle;\n",
       "    }\n",
       "\n",
       "    .dataframe tbody tr th {\n",
       "        vertical-align: top;\n",
       "    }\n",
       "\n",
       "    .dataframe thead th {\n",
       "        text-align: right;\n",
       "    }\n",
       "</style>\n",
       "<table border=\"1\" class=\"dataframe\">\n",
       "  <thead>\n",
       "    <tr style=\"text-align: right;\">\n",
       "      <th></th>\n",
       "      <th>Unnamed: 0</th>\n",
       "      <th>Patient Id</th>\n",
       "      <th>Patient_Age</th>\n",
       "      <th>Gene_mother_side</th>\n",
       "      <th>Inherited_from_father</th>\n",
       "      <th>Maternal_gene</th>\n",
       "      <th>Paternal_gene</th>\n",
       "      <th>Blood_cell_count</th>\n",
       "      <th>Patient First Name</th>\n",
       "      <th>Family Name</th>\n",
       "      <th>...</th>\n",
       "      <th>History_of_anomalies_in_previous_pregnancies</th>\n",
       "      <th>Number_of_previous_abortion</th>\n",
       "      <th>Birth_defects</th>\n",
       "      <th>White_Blood _cell_count</th>\n",
       "      <th>Blood_test</th>\n",
       "      <th>Symptom1</th>\n",
       "      <th>Symptom2</th>\n",
       "      <th>Genetic Disorder</th>\n",
       "      <th>Disorder Subclass</th>\n",
       "      <th>pupil_size</th>\n",
       "    </tr>\n",
       "  </thead>\n",
       "  <tbody>\n",
       "    <tr>\n",
       "      <th>0</th>\n",
       "      <td>0</td>\n",
       "      <td>PID0x6418</td>\n",
       "      <td>2.0</td>\n",
       "      <td>Yes</td>\n",
       "      <td>No</td>\n",
       "      <td>Yes</td>\n",
       "      <td>No</td>\n",
       "      <td>4.760603</td>\n",
       "      <td>Richard</td>\n",
       "      <td>NaN</td>\n",
       "      <td>...</td>\n",
       "      <td>Yes</td>\n",
       "      <td>NaN</td>\n",
       "      <td>NaN</td>\n",
       "      <td>9.857562</td>\n",
       "      <td>NaN</td>\n",
       "      <td>1.0</td>\n",
       "      <td>1.0</td>\n",
       "      <td>Mitochondrial genetic inheritance disorders</td>\n",
       "      <td>Leber's hereditary optic neuropathy</td>\n",
       "      <td>1</td>\n",
       "    </tr>\n",
       "    <tr>\n",
       "      <th>1</th>\n",
       "      <td>1</td>\n",
       "      <td>PID0x25d5</td>\n",
       "      <td>4.0</td>\n",
       "      <td>Yes</td>\n",
       "      <td>Yes</td>\n",
       "      <td>No</td>\n",
       "      <td>No</td>\n",
       "      <td>4.910669</td>\n",
       "      <td>Mike</td>\n",
       "      <td>NaN</td>\n",
       "      <td>...</td>\n",
       "      <td>Yes</td>\n",
       "      <td>NaN</td>\n",
       "      <td>Multiple</td>\n",
       "      <td>5.522560</td>\n",
       "      <td>normal</td>\n",
       "      <td>1.0</td>\n",
       "      <td>NaN</td>\n",
       "      <td>NaN</td>\n",
       "      <td>Cystic fibrosis</td>\n",
       "      <td>0</td>\n",
       "    </tr>\n",
       "    <tr>\n",
       "      <th>2</th>\n",
       "      <td>2</td>\n",
       "      <td>PID0x4a82</td>\n",
       "      <td>6.0</td>\n",
       "      <td>Yes</td>\n",
       "      <td>No</td>\n",
       "      <td>No</td>\n",
       "      <td>No</td>\n",
       "      <td>4.893297</td>\n",
       "      <td>Kimberly</td>\n",
       "      <td>NaN</td>\n",
       "      <td>...</td>\n",
       "      <td>Yes</td>\n",
       "      <td>4.0</td>\n",
       "      <td>Singular</td>\n",
       "      <td>NaN</td>\n",
       "      <td>normal</td>\n",
       "      <td>0.0</td>\n",
       "      <td>1.0</td>\n",
       "      <td>Multifactorial genetic inheritance disorders</td>\n",
       "      <td>Diabetes</td>\n",
       "      <td>2</td>\n",
       "    </tr>\n",
       "    <tr>\n",
       "      <th>3</th>\n",
       "      <td>3</td>\n",
       "      <td>PID0x4ac8</td>\n",
       "      <td>12.0</td>\n",
       "      <td>Yes</td>\n",
       "      <td>No</td>\n",
       "      <td>Yes</td>\n",
       "      <td>No</td>\n",
       "      <td>4.705280</td>\n",
       "      <td>Jeffery</td>\n",
       "      <td>Hoelscher</td>\n",
       "      <td>...</td>\n",
       "      <td>Yes</td>\n",
       "      <td>1.0</td>\n",
       "      <td>Singular</td>\n",
       "      <td>7.919321</td>\n",
       "      <td>inconclusive</td>\n",
       "      <td>0.0</td>\n",
       "      <td>0.0</td>\n",
       "      <td>Mitochondrial genetic inheritance disorders</td>\n",
       "      <td>Leigh syndrome</td>\n",
       "      <td>3</td>\n",
       "    </tr>\n",
       "    <tr>\n",
       "      <th>4</th>\n",
       "      <td>4</td>\n",
       "      <td>PID0x1bf7</td>\n",
       "      <td>11.0</td>\n",
       "      <td>Yes</td>\n",
       "      <td>No</td>\n",
       "      <td>NaN</td>\n",
       "      <td>Yes</td>\n",
       "      <td>4.720703</td>\n",
       "      <td>Johanna</td>\n",
       "      <td>Stutzman</td>\n",
       "      <td>...</td>\n",
       "      <td>No</td>\n",
       "      <td>4.0</td>\n",
       "      <td>Multiple</td>\n",
       "      <td>4.098210</td>\n",
       "      <td>NaN</td>\n",
       "      <td>0.0</td>\n",
       "      <td>0.0</td>\n",
       "      <td>Multifactorial genetic inheritance disorders</td>\n",
       "      <td>Cancer</td>\n",
       "      <td>2</td>\n",
       "    </tr>\n",
       "  </tbody>\n",
       "</table>\n",
       "<p>5 rows × 39 columns</p>\n",
       "</div>"
      ],
      "text/plain": [
       "   Unnamed: 0 Patient Id  Patient_Age Gene_mother_side Inherited_from_father  \\\n",
       "0           0  PID0x6418          2.0              Yes                    No   \n",
       "1           1  PID0x25d5          4.0              Yes                   Yes   \n",
       "2           2  PID0x4a82          6.0              Yes                    No   \n",
       "3           3  PID0x4ac8         12.0              Yes                    No   \n",
       "4           4  PID0x1bf7         11.0              Yes                    No   \n",
       "\n",
       "  Maternal_gene Paternal_gene  Blood_cell_count Patient First Name  \\\n",
       "0           Yes            No          4.760603            Richard   \n",
       "1            No            No          4.910669               Mike   \n",
       "2            No            No          4.893297           Kimberly   \n",
       "3           Yes            No          4.705280            Jeffery   \n",
       "4           NaN           Yes          4.720703            Johanna   \n",
       "\n",
       "  Family Name  ... History_of_anomalies_in_previous_pregnancies  \\\n",
       "0         NaN  ...                                          Yes   \n",
       "1         NaN  ...                                          Yes   \n",
       "2         NaN  ...                                          Yes   \n",
       "3   Hoelscher  ...                                          Yes   \n",
       "4    Stutzman  ...                                           No   \n",
       "\n",
       "   Number_of_previous_abortion  Birth_defects White_Blood _cell_count  \\\n",
       "0                          NaN            NaN                9.857562   \n",
       "1                          NaN       Multiple                5.522560   \n",
       "2                          4.0       Singular                     NaN   \n",
       "3                          1.0       Singular                7.919321   \n",
       "4                          4.0       Multiple                4.098210   \n",
       "\n",
       "    Blood_test  Symptom1 Symptom2  \\\n",
       "0           NaN      1.0      1.0   \n",
       "1        normal      1.0      NaN   \n",
       "2        normal      0.0      1.0   \n",
       "3  inconclusive      0.0      0.0   \n",
       "4           NaN      0.0      0.0   \n",
       "\n",
       "                               Genetic Disorder  \\\n",
       "0   Mitochondrial genetic inheritance disorders   \n",
       "1                                           NaN   \n",
       "2  Multifactorial genetic inheritance disorders   \n",
       "3   Mitochondrial genetic inheritance disorders   \n",
       "4  Multifactorial genetic inheritance disorders   \n",
       "\n",
       "                     Disorder Subclass pupil_size  \n",
       "0  Leber's hereditary optic neuropathy          1  \n",
       "1                      Cystic fibrosis          0  \n",
       "2                             Diabetes          2  \n",
       "3                       Leigh syndrome          3  \n",
       "4                               Cancer          2  \n",
       "\n",
       "[5 rows x 39 columns]"
      ]
     },
     "execution_count": 3,
     "metadata": {},
     "output_type": "execute_result"
    }
   ],
   "source": [
    "# printing the first 5 rows of the dataset\n",
    "df.head()"
   ]
  },
  {
   "cell_type": "code",
   "execution_count": 4,
   "metadata": {
    "colab": {
     "base_uri": "https://localhost:8080/"
    },
    "executionInfo": {
     "elapsed": 22,
     "status": "ok",
     "timestamp": 1678755147302,
     "user": {
      "displayName": "Oruganti Satya Durga",
      "userId": "10010640176231433046"
     },
     "user_tz": -330
    },
    "id": "lynParo6pEMB",
    "outputId": "80a0b5a2-6d73-4f15-a64d-2a6632f5c875"
   },
   "outputs": [
    {
     "data": {
      "text/plain": [
       "(21011, 39)"
      ]
     },
     "execution_count": 4,
     "metadata": {},
     "output_type": "execute_result"
    }
   ],
   "source": [
    "# number of rows and Columns in this dataset\n",
    "df.shape"
   ]
  },
  {
   "cell_type": "code",
   "execution_count": 5,
   "metadata": {
    "colab": {
     "base_uri": "https://localhost:8080/"
    },
    "executionInfo": {
     "elapsed": 807,
     "status": "ok",
     "timestamp": 1678755148090,
     "user": {
      "displayName": "Oruganti Satya Durga",
      "userId": "10010640176231433046"
     },
     "user_tz": -330
    },
    "id": "OKZom1jRCsOc",
    "outputId": "7a0b4c04-8fa4-444c-874f-cb860926522e"
   },
   "outputs": [
    {
     "data": {
      "text/plain": [
       "Unnamed: 0                                         0\n",
       "Patient Id                                         0\n",
       "Patient_Age                                     1368\n",
       "Gene_mother_side                                   0\n",
       "Inherited_from_father                            287\n",
       "Maternal_gene                                   2694\n",
       "Paternal_gene                                      0\n",
       "Blood_cell_count                                   0\n",
       "Patient First Name                                 0\n",
       "Family Name                                     9240\n",
       "Father's name                                      0\n",
       "Mother_age                                      5718\n",
       "Father_age                                      5689\n",
       "InstituteName                                   4860\n",
       "Location_of_Institute                              0\n",
       "Status                                             0\n",
       "RespiratoryRate                                 2059\n",
       "HeartRate                                       2025\n",
       "Parental_consent                                2020\n",
       "Follow_up                                       2070\n",
       "Gender                                          2063\n",
       "Birth_asphyxia                                  2058\n",
       "Autopsy_shows_birth_defect                       966\n",
       "Place_of_birth                                  2018\n",
       "Folic_acid_details                              2013\n",
       "H_or_O_serious_maternal_illness                 2052\n",
       "H_or_O_radiation_exposure_xRay                  2047\n",
       "H_or_O_substance_abuse                          2090\n",
       "Assisted_conception_IVF_or_ART                  2004\n",
       "History_of_anomalies_in_previous_pregnancies    2066\n",
       "Number_of_previous_abortion                     2054\n",
       "Birth_defects                                   2052\n",
       "White_Blood _cell_count                         2046\n",
       "Blood_test                                      2034\n",
       "Symptom1                                        2056\n",
       "Symptom2                                        2112\n",
       "Genetic Disorder                                2049\n",
       "Disorder Subclass                               2068\n",
       "pupil_size                                         0\n",
       "dtype: int64"
      ]
     },
     "execution_count": 5,
     "metadata": {},
     "output_type": "execute_result"
    }
   ],
   "source": [
    "df.isnull().sum()"
   ]
  },
  {
   "cell_type": "code",
   "execution_count": 6,
   "metadata": {
    "executionInfo": {
     "elapsed": 2,
     "status": "ok",
     "timestamp": 1678755184973,
     "user": {
      "displayName": "Oruganti Satya Durga",
      "userId": "10010640176231433046"
     },
     "user_tz": -330
    },
    "id": "TqKERanxC1iy"
   },
   "outputs": [],
   "source": [
    "df = df.drop(['Unnamed: 0','Patient Id','Patient First Name','Family Name',\"Father's name\",\"InstituteName\",\"Location_of_Institute\",'Disorder Subclass'],axis=1)"
   ]
  },
  {
   "cell_type": "code",
   "execution_count": 7,
   "metadata": {
    "colab": {
     "base_uri": "https://localhost:8080/"
    },
    "executionInfo": {
     "elapsed": 8,
     "status": "ok",
     "timestamp": 1678755185533,
     "user": {
      "displayName": "Oruganti Satya Durga",
      "userId": "10010640176231433046"
     },
     "user_tz": -330
    },
    "id": "Pu8A4_WYDAXh",
    "outputId": "3d1289f9-80dd-438c-a44d-ad1ebf176f68"
   },
   "outputs": [
    {
     "data": {
      "text/plain": [
       "Index(['Patient_Age', 'Gene_mother_side', 'Inherited_from_father',\n",
       "       'Maternal_gene', 'Paternal_gene', 'Blood_cell_count', 'Mother_age',\n",
       "       'Father_age', 'Status', 'RespiratoryRate', 'HeartRate',\n",
       "       'Parental_consent', 'Follow_up', 'Gender', 'Birth_asphyxia',\n",
       "       'Autopsy_shows_birth_defect ', 'Place_of_birth', 'Folic_acid_details ',\n",
       "       'H_or_O_serious_maternal_illness', 'H_or_O_radiation_exposure_xRay',\n",
       "       'H_or_O_substance_abuse', 'Assisted_conception_IVF_or_ART',\n",
       "       'History_of_anomalies_in_previous_pregnancies',\n",
       "       'Number_of_previous_abortion', 'Birth_defects',\n",
       "       'White_Blood _cell_count', 'Blood_test ', 'Symptom1', 'Symptom2',\n",
       "       'Genetic Disorder', 'pupil_size'],\n",
       "      dtype='object')"
      ]
     },
     "execution_count": 7,
     "metadata": {},
     "output_type": "execute_result"
    }
   ],
   "source": [
    "df.keys()"
   ]
  },
  {
   "cell_type": "code",
   "execution_count": 8,
   "metadata": {
    "colab": {
     "base_uri": "https://localhost:8080/"
    },
    "executionInfo": {
     "elapsed": 5,
     "status": "ok",
     "timestamp": 1678755185533,
     "user": {
      "displayName": "Oruganti Satya Durga",
      "userId": "10010640176231433046"
     },
     "user_tz": -330
    },
    "id": "FRZWVTKqD7b5",
    "outputId": "7206f579-03e4-446a-b06b-91da5bf66e09"
   },
   "outputs": [
    {
     "data": {
      "text/plain": [
       "21011"
      ]
     },
     "execution_count": 8,
     "metadata": {},
     "output_type": "execute_result"
    }
   ],
   "source": [
    "len(df)"
   ]
  },
  {
   "cell_type": "code",
   "execution_count": 9,
   "metadata": {
    "colab": {
     "base_uri": "https://localhost:8080/",
     "height": 382
    },
    "executionInfo": {
     "elapsed": 783,
     "status": "ok",
     "timestamp": 1678755186314,
     "user": {
      "displayName": "Oruganti Satya Durga",
      "userId": "10010640176231433046"
     },
     "user_tz": -330
    },
    "id": "3NDJOlrEpmoL",
    "outputId": "d86ca791-5b1f-474e-c915-d49f125a8356"
   },
   "outputs": [
    {
     "data": {
      "text/html": [
       "<div>\n",
       "<style scoped>\n",
       "    .dataframe tbody tr th:only-of-type {\n",
       "        vertical-align: middle;\n",
       "    }\n",
       "\n",
       "    .dataframe tbody tr th {\n",
       "        vertical-align: top;\n",
       "    }\n",
       "\n",
       "    .dataframe thead th {\n",
       "        text-align: right;\n",
       "    }\n",
       "</style>\n",
       "<table border=\"1\" class=\"dataframe\">\n",
       "  <thead>\n",
       "    <tr style=\"text-align: right;\">\n",
       "      <th></th>\n",
       "      <th>Patient_Age</th>\n",
       "      <th>Blood_cell_count</th>\n",
       "      <th>Mother_age</th>\n",
       "      <th>Father_age</th>\n",
       "      <th>Number_of_previous_abortion</th>\n",
       "      <th>White_Blood _cell_count</th>\n",
       "      <th>Symptom1</th>\n",
       "      <th>Symptom2</th>\n",
       "      <th>pupil_size</th>\n",
       "    </tr>\n",
       "  </thead>\n",
       "  <tbody>\n",
       "    <tr>\n",
       "      <th>count</th>\n",
       "      <td>19643.000000</td>\n",
       "      <td>21011.000000</td>\n",
       "      <td>15293.000000</td>\n",
       "      <td>15322.000000</td>\n",
       "      <td>18957.000000</td>\n",
       "      <td>18965.000000</td>\n",
       "      <td>18955.000000</td>\n",
       "      <td>18899.000000</td>\n",
       "      <td>21011.000000</td>\n",
       "    </tr>\n",
       "    <tr>\n",
       "      <th>mean</th>\n",
       "      <td>6.974851</td>\n",
       "      <td>4.899004</td>\n",
       "      <td>34.522527</td>\n",
       "      <td>41.942436</td>\n",
       "      <td>2.000106</td>\n",
       "      <td>7.484680</td>\n",
       "      <td>0.592034</td>\n",
       "      <td>0.552886</td>\n",
       "      <td>2.002427</td>\n",
       "    </tr>\n",
       "    <tr>\n",
       "      <th>std</th>\n",
       "      <td>4.322584</td>\n",
       "      <td>0.199829</td>\n",
       "      <td>9.847256</td>\n",
       "      <td>13.027701</td>\n",
       "      <td>1.411488</td>\n",
       "      <td>2.653633</td>\n",
       "      <td>0.491470</td>\n",
       "      <td>0.497208</td>\n",
       "      <td>1.414767</td>\n",
       "    </tr>\n",
       "    <tr>\n",
       "      <th>min</th>\n",
       "      <td>0.000000</td>\n",
       "      <td>4.092727</td>\n",
       "      <td>18.000000</td>\n",
       "      <td>20.000000</td>\n",
       "      <td>0.000000</td>\n",
       "      <td>3.000000</td>\n",
       "      <td>0.000000</td>\n",
       "      <td>0.000000</td>\n",
       "      <td>0.000000</td>\n",
       "    </tr>\n",
       "    <tr>\n",
       "      <th>25%</th>\n",
       "      <td>3.000000</td>\n",
       "      <td>4.763230</td>\n",
       "      <td>26.000000</td>\n",
       "      <td>31.000000</td>\n",
       "      <td>1.000000</td>\n",
       "      <td>5.419026</td>\n",
       "      <td>0.000000</td>\n",
       "      <td>0.000000</td>\n",
       "      <td>1.000000</td>\n",
       "    </tr>\n",
       "    <tr>\n",
       "      <th>50%</th>\n",
       "      <td>7.000000</td>\n",
       "      <td>4.899548</td>\n",
       "      <td>35.000000</td>\n",
       "      <td>42.000000</td>\n",
       "      <td>2.000000</td>\n",
       "      <td>7.473071</td>\n",
       "      <td>1.000000</td>\n",
       "      <td>1.000000</td>\n",
       "      <td>2.000000</td>\n",
       "    </tr>\n",
       "    <tr>\n",
       "      <th>75%</th>\n",
       "      <td>11.000000</td>\n",
       "      <td>5.033977</td>\n",
       "      <td>43.000000</td>\n",
       "      <td>53.000000</td>\n",
       "      <td>3.000000</td>\n",
       "      <td>9.528684</td>\n",
       "      <td>1.000000</td>\n",
       "      <td>1.000000</td>\n",
       "      <td>3.000000</td>\n",
       "    </tr>\n",
       "    <tr>\n",
       "      <th>max</th>\n",
       "      <td>14.000000</td>\n",
       "      <td>5.609829</td>\n",
       "      <td>51.000000</td>\n",
       "      <td>64.000000</td>\n",
       "      <td>4.000000</td>\n",
       "      <td>12.000000</td>\n",
       "      <td>1.000000</td>\n",
       "      <td>1.000000</td>\n",
       "      <td>4.000000</td>\n",
       "    </tr>\n",
       "  </tbody>\n",
       "</table>\n",
       "</div>"
      ],
      "text/plain": [
       "        Patient_Age  Blood_cell_count    Mother_age    Father_age  \\\n",
       "count  19643.000000      21011.000000  15293.000000  15322.000000   \n",
       "mean       6.974851          4.899004     34.522527     41.942436   \n",
       "std        4.322584          0.199829      9.847256     13.027701   \n",
       "min        0.000000          4.092727     18.000000     20.000000   \n",
       "25%        3.000000          4.763230     26.000000     31.000000   \n",
       "50%        7.000000          4.899548     35.000000     42.000000   \n",
       "75%       11.000000          5.033977     43.000000     53.000000   \n",
       "max       14.000000          5.609829     51.000000     64.000000   \n",
       "\n",
       "       Number_of_previous_abortion  White_Blood _cell_count      Symptom1  \\\n",
       "count                 18957.000000             18965.000000  18955.000000   \n",
       "mean                      2.000106                 7.484680      0.592034   \n",
       "std                       1.411488                 2.653633      0.491470   \n",
       "min                       0.000000                 3.000000      0.000000   \n",
       "25%                       1.000000                 5.419026      0.000000   \n",
       "50%                       2.000000                 7.473071      1.000000   \n",
       "75%                       3.000000                 9.528684      1.000000   \n",
       "max                       4.000000                12.000000      1.000000   \n",
       "\n",
       "           Symptom2    pupil_size  \n",
       "count  18899.000000  21011.000000  \n",
       "mean       0.552886      2.002427  \n",
       "std        0.497208      1.414767  \n",
       "min        0.000000      0.000000  \n",
       "25%        0.000000      1.000000  \n",
       "50%        1.000000      2.000000  \n",
       "75%        1.000000      3.000000  \n",
       "max        1.000000      4.000000  "
      ]
     },
     "execution_count": 9,
     "metadata": {},
     "output_type": "execute_result"
    }
   ],
   "source": [
    "# getting the statistical measures of the data\n",
    "df.describe()"
   ]
  },
  {
   "cell_type": "code",
   "execution_count": 10,
   "metadata": {
    "executionInfo": {
     "elapsed": 34,
     "status": "ok",
     "timestamp": 1678755186315,
     "user": {
      "displayName": "Oruganti Satya Durga",
      "userId": "10010640176231433046"
     },
     "user_tz": -330
    },
    "id": "9afe095a"
   },
   "outputs": [],
   "source": [
    "df['Patient_Age'] = df['Patient_Age'].fillna(df['Patient_Age'].median())"
   ]
  },
  {
   "cell_type": "code",
   "execution_count": 11,
   "metadata": {
    "colab": {
     "base_uri": "https://localhost:8080/"
    },
    "executionInfo": {
     "elapsed": 35,
     "status": "ok",
     "timestamp": 1678755186316,
     "user": {
      "displayName": "Oruganti Satya Durga",
      "userId": "10010640176231433046"
     },
     "user_tz": -330
    },
    "id": "321b1cf3",
    "outputId": "22065b79-766d-44ca-9902-4bcf7305adb8"
   },
   "outputs": [
    {
     "data": {
      "text/plain": [
       "No     12508\n",
       "Yes     8216\n",
       "Name: Inherited_from_father, dtype: int64"
      ]
     },
     "execution_count": 11,
     "metadata": {},
     "output_type": "execute_result"
    }
   ],
   "source": [
    "df['Inherited_from_father'].value_counts()"
   ]
  },
  {
   "cell_type": "code",
   "execution_count": 12,
   "metadata": {
    "executionInfo": {
     "elapsed": 31,
     "status": "ok",
     "timestamp": 1678755186316,
     "user": {
      "displayName": "Oruganti Satya Durga",
      "userId": "10010640176231433046"
     },
     "user_tz": -330
    },
    "id": "dsmBCcq1EXSP"
   },
   "outputs": [],
   "source": [
    "df['Inherited_from_father'] = df['Inherited_from_father'].fillna('Not Available')"
   ]
  },
  {
   "cell_type": "code",
   "execution_count": 13,
   "metadata": {
    "colab": {
     "base_uri": "https://localhost:8080/"
    },
    "executionInfo": {
     "elapsed": 31,
     "status": "ok",
     "timestamp": 1678755186317,
     "user": {
      "displayName": "Oruganti Satya Durga",
      "userId": "10010640176231433046"
     },
     "user_tz": -330
    },
    "id": "I_QhtYx7EbvC",
    "outputId": "48ab0bd3-a1a8-4f88-cc1b-69228bdc3bdb"
   },
   "outputs": [
    {
     "data": {
      "text/plain": [
       "Yes              4839\n",
       "Not available    4755\n",
       "No record        4752\n",
       "No               4607\n",
       "Name: Birth_asphyxia, dtype: int64"
      ]
     },
     "execution_count": 13,
     "metadata": {},
     "output_type": "execute_result"
    }
   ],
   "source": [
    "df['Birth_asphyxia'].value_counts()"
   ]
  },
  {
   "cell_type": "code",
   "execution_count": 14,
   "metadata": {
    "executionInfo": {
     "elapsed": 29,
     "status": "ok",
     "timestamp": 1678755186318,
     "user": {
      "displayName": "Oruganti Satya Durga",
      "userId": "10010640176231433046"
     },
     "user_tz": -330
    },
    "id": "s621AOy9EeC7"
   },
   "outputs": [],
   "source": [
    "df['Maternal_gene'] = df['Maternal_gene'].fillna('Not Available')"
   ]
  },
  {
   "cell_type": "code",
   "execution_count": 15,
   "metadata": {
    "executionInfo": {
     "elapsed": 30,
     "status": "ok",
     "timestamp": 1678755186319,
     "user": {
      "displayName": "Oruganti Satya Durga",
      "userId": "10010640176231433046"
     },
     "user_tz": -330
    },
    "id": "ClcAq0NKEeJh"
   },
   "outputs": [],
   "source": [
    "df['Genetic Disorder'] = df['Genetic Disorder'].fillna('No Disease')"
   ]
  },
  {
   "cell_type": "code",
   "execution_count": 16,
   "metadata": {
    "executionInfo": {
     "elapsed": 30,
     "status": "ok",
     "timestamp": 1678755186319,
     "user": {
      "displayName": "Oruganti Satya Durga",
      "userId": "10010640176231433046"
     },
     "user_tz": -330
    },
    "id": "4QYHJyxKEeNP"
   },
   "outputs": [],
   "source": [
    "df[\"Mother_age\"]=df[\"Mother_age\"].fillna(df[\"Mother_age\"].median())"
   ]
  },
  {
   "cell_type": "code",
   "execution_count": 17,
   "metadata": {
    "colab": {
     "base_uri": "https://localhost:8080/"
    },
    "executionInfo": {
     "elapsed": 30,
     "status": "ok",
     "timestamp": 1678755186320,
     "user": {
      "displayName": "Oruganti Satya Durga",
      "userId": "10010640176231433046"
     },
     "user_tz": -330
    },
    "id": "OHrKd9rTEeQX",
    "outputId": "25e75426-b0a8-43f6-cb9b-7ffdee17d7eb"
   },
   "outputs": [
    {
     "data": {
      "text/plain": [
       "Patient_Age                                     float64\n",
       "Gene_mother_side                                 object\n",
       "Inherited_from_father                            object\n",
       "Maternal_gene                                    object\n",
       "Paternal_gene                                    object\n",
       "Blood_cell_count                                float64\n",
       "Mother_age                                      float64\n",
       "Father_age                                      float64\n",
       "Status                                           object\n",
       "RespiratoryRate                                  object\n",
       "HeartRate                                        object\n",
       "Parental_consent                                 object\n",
       "Follow_up                                        object\n",
       "Gender                                           object\n",
       "Birth_asphyxia                                   object\n",
       "Autopsy_shows_birth_defect                       object\n",
       "Place_of_birth                                   object\n",
       "Folic_acid_details                               object\n",
       "H_or_O_serious_maternal_illness                  object\n",
       "H_or_O_radiation_exposure_xRay                   object\n",
       "H_or_O_substance_abuse                           object\n",
       "Assisted_conception_IVF_or_ART                   object\n",
       "History_of_anomalies_in_previous_pregnancies     object\n",
       "Number_of_previous_abortion                     float64\n",
       "Birth_defects                                    object\n",
       "White_Blood _cell_count                         float64\n",
       "Blood_test                                       object\n",
       "Symptom1                                        float64\n",
       "Symptom2                                        float64\n",
       "Genetic Disorder                                 object\n",
       "pupil_size                                        int64\n",
       "dtype: object"
      ]
     },
     "execution_count": 17,
     "metadata": {},
     "output_type": "execute_result"
    }
   ],
   "source": [
    "df.dtypes"
   ]
  },
  {
   "cell_type": "code",
   "execution_count": 18,
   "metadata": {
    "executionInfo": {
     "elapsed": 959,
     "status": "ok",
     "timestamp": 1678755215568,
     "user": {
      "displayName": "Oruganti Satya Durga",
      "userId": "10010640176231433046"
     },
     "user_tz": -330
    },
    "id": "keN30JtQEeYO"
   },
   "outputs": [],
   "source": [
    "for i in df.keys():\n",
    "    if df[i].dtype=='O' and df[i].isnull().sum()!=0:\n",
    "        df[i]=df[i].fillna('Not Available')"
   ]
  },
  {
   "cell_type": "code",
   "execution_count": 19,
   "metadata": {
    "colab": {
     "base_uri": "https://localhost:8080/"
    },
    "executionInfo": {
     "elapsed": 21,
     "status": "ok",
     "timestamp": 1678755215568,
     "user": {
      "displayName": "Oruganti Satya Durga",
      "userId": "10010640176231433046"
     },
     "user_tz": -330
    },
    "id": "IWVu5P6mEebF",
    "outputId": "fc370f3f-2502-404a-ead2-5d49083e0b2a"
   },
   "outputs": [
    {
     "data": {
      "text/plain": [
       "Patient_Age                                        0\n",
       "Gene_mother_side                                   0\n",
       "Inherited_from_father                              0\n",
       "Maternal_gene                                      0\n",
       "Paternal_gene                                      0\n",
       "Blood_cell_count                                   0\n",
       "Mother_age                                         0\n",
       "Father_age                                      5689\n",
       "Status                                             0\n",
       "RespiratoryRate                                    0\n",
       "HeartRate                                          0\n",
       "Parental_consent                                   0\n",
       "Follow_up                                          0\n",
       "Gender                                             0\n",
       "Birth_asphyxia                                     0\n",
       "Autopsy_shows_birth_defect                         0\n",
       "Place_of_birth                                     0\n",
       "Folic_acid_details                                 0\n",
       "H_or_O_serious_maternal_illness                    0\n",
       "H_or_O_radiation_exposure_xRay                     0\n",
       "H_or_O_substance_abuse                             0\n",
       "Assisted_conception_IVF_or_ART                     0\n",
       "History_of_anomalies_in_previous_pregnancies       0\n",
       "Number_of_previous_abortion                     2054\n",
       "Birth_defects                                      0\n",
       "White_Blood _cell_count                         2046\n",
       "Blood_test                                         0\n",
       "Symptom1                                        2056\n",
       "Symptom2                                        2112\n",
       "Genetic Disorder                                   0\n",
       "pupil_size                                         0\n",
       "dtype: int64"
      ]
     },
     "execution_count": 19,
     "metadata": {},
     "output_type": "execute_result"
    }
   ],
   "source": [
    "df.isnull().sum()"
   ]
  },
  {
   "cell_type": "code",
   "execution_count": 20,
   "metadata": {
    "colab": {
     "base_uri": "https://localhost:8080/"
    },
    "executionInfo": {
     "elapsed": 20,
     "status": "ok",
     "timestamp": 1678755215568,
     "user": {
      "displayName": "Oruganti Satya Durga",
      "userId": "10010640176231433046"
     },
     "user_tz": -330
    },
    "id": "SLExI6KoEede",
    "outputId": "2bbf8e9f-9874-4bca-c50f-c6f0f2c7ec30"
   },
   "outputs": [
    {
     "data": {
      "text/plain": [
       "True"
      ]
     },
     "execution_count": 20,
     "metadata": {},
     "output_type": "execute_result"
    }
   ],
   "source": [
    "df['Number_of_previous_abortion'].isnull().sum()!=0 "
   ]
  },
  {
   "cell_type": "code",
   "execution_count": 21,
   "metadata": {
    "colab": {
     "base_uri": "https://localhost:8080/"
    },
    "executionInfo": {
     "elapsed": 16,
     "status": "ok",
     "timestamp": 1678755215568,
     "user": {
      "displayName": "Oruganti Satya Durga",
      "userId": "10010640176231433046"
     },
     "user_tz": -330
    },
    "id": "rQLJSiNUEeg_",
    "outputId": "b18de7dd-bf19-47c6-fe3d-2aa461f1f9cb"
   },
   "outputs": [
    {
     "data": {
      "text/plain": [
       "0        True\n",
       "1        True\n",
       "2        True\n",
       "3        True\n",
       "4        True\n",
       "         ... \n",
       "21006    True\n",
       "21007    True\n",
       "21008    True\n",
       "21009    True\n",
       "21010    True\n",
       "Name: Number_of_previous_abortion, Length: 21011, dtype: bool"
      ]
     },
     "execution_count": 21,
     "metadata": {},
     "output_type": "execute_result"
    }
   ],
   "source": [
    "df['Number_of_previous_abortion']!='object'"
   ]
  },
  {
   "cell_type": "code",
   "execution_count": 22,
   "metadata": {
    "executionInfo": {
     "elapsed": 15,
     "status": "ok",
     "timestamp": 1678755215569,
     "user": {
      "displayName": "Oruganti Satya Durga",
      "userId": "10010640176231433046"
     },
     "user_tz": -330
    },
    "id": "RtvyYag8FLy2"
   },
   "outputs": [],
   "source": [
    "for i in df.keys():\n",
    "    if df[i].isnull().sum()!=0 and df[i].dtype!='object':\n",
    "        df[i]=df[i].fillna(df[i].median)"
   ]
  },
  {
   "cell_type": "code",
   "execution_count": 23,
   "metadata": {
    "colab": {
     "base_uri": "https://localhost:8080/"
    },
    "executionInfo": {
     "elapsed": 14,
     "status": "ok",
     "timestamp": 1678755215569,
     "user": {
      "displayName": "Oruganti Satya Durga",
      "userId": "10010640176231433046"
     },
     "user_tz": -330
    },
    "id": "Cp6Za-_CFL10",
    "outputId": "de16e5f5-1210-4cae-e687-53ba5c1bc8b0"
   },
   "outputs": [
    {
     "data": {
      "text/plain": [
       "Mitochondrial genetic inheritance disorders     9686\n",
       "Single-gene inheritance diseases                7291\n",
       "No Disease                                      2049\n",
       "Multifactorial genetic inheritance disorders    1985\n",
       "Name: Genetic Disorder, dtype: int64"
      ]
     },
     "execution_count": 23,
     "metadata": {},
     "output_type": "execute_result"
    }
   ],
   "source": [
    "df['Genetic Disorder'].value_counts()"
   ]
  },
  {
   "cell_type": "code",
   "execution_count": 24,
   "metadata": {
    "colab": {
     "base_uri": "https://localhost:8080/"
    },
    "executionInfo": {
     "elapsed": 11,
     "status": "ok",
     "timestamp": 1678755215569,
     "user": {
      "displayName": "Oruganti Satya Durga",
      "userId": "10010640176231433046"
     },
     "user_tz": -330
    },
    "id": "Vl1y_RjOFL4p",
    "outputId": "421266f1-f248-4cc7-8bf4-58359b492256"
   },
   "outputs": [
    {
     "data": {
      "text/plain": [
       "Patient_Age                                     float64\n",
       "Gene_mother_side                                 object\n",
       "Inherited_from_father                            object\n",
       "Maternal_gene                                    object\n",
       "Paternal_gene                                    object\n",
       "Blood_cell_count                                float64\n",
       "Mother_age                                      float64\n",
       "Father_age                                       object\n",
       "Status                                           object\n",
       "RespiratoryRate                                  object\n",
       "HeartRate                                        object\n",
       "Parental_consent                                 object\n",
       "Follow_up                                        object\n",
       "Gender                                           object\n",
       "Birth_asphyxia                                   object\n",
       "Autopsy_shows_birth_defect                       object\n",
       "Place_of_birth                                   object\n",
       "Folic_acid_details                               object\n",
       "H_or_O_serious_maternal_illness                  object\n",
       "H_or_O_radiation_exposure_xRay                   object\n",
       "H_or_O_substance_abuse                           object\n",
       "Assisted_conception_IVF_or_ART                   object\n",
       "History_of_anomalies_in_previous_pregnancies     object\n",
       "Number_of_previous_abortion                      object\n",
       "Birth_defects                                    object\n",
       "White_Blood _cell_count                          object\n",
       "Blood_test                                       object\n",
       "Symptom1                                         object\n",
       "Symptom2                                         object\n",
       "Genetic Disorder                                 object\n",
       "pupil_size                                        int64\n",
       "dtype: object"
      ]
     },
     "execution_count": 24,
     "metadata": {},
     "output_type": "execute_result"
    }
   ],
   "source": [
    "df.dtypes"
   ]
  },
  {
   "cell_type": "code",
   "execution_count": 25,
   "metadata": {
    "executionInfo": {
     "elapsed": 36293,
     "status": "ok",
     "timestamp": 1678755251854,
     "user": {
      "displayName": "Oruganti Satya Durga",
      "userId": "10010640176231433046"
     },
     "user_tz": -330
    },
    "id": "xAeSN_h4FL8E"
   },
   "outputs": [],
   "source": [
    "for i in df.keys():\n",
    "    if df[i].dtype=='O':\n",
    "        try:\n",
    "            df[i]=le.fit_transform(df[i])\n",
    "        except Exception as e:\n",
    "            df[i] = df[i].astype(str)"
   ]
  },
  {
   "cell_type": "code",
   "execution_count": 26,
   "metadata": {
    "colab": {
     "base_uri": "https://localhost:8080/"
    },
    "executionInfo": {
     "elapsed": 22,
     "status": "ok",
     "timestamp": 1678755251854,
     "user": {
      "displayName": "Oruganti Satya Durga",
      "userId": "10010640176231433046"
     },
     "user_tz": -330
    },
    "id": "2vpJSbidFfKi",
    "outputId": "574da91c-3ddf-4f87-bf5f-c2726ecb0f07"
   },
   "outputs": [
    {
     "data": {
      "text/plain": [
       "dtype('O')"
      ]
     },
     "execution_count": 26,
     "metadata": {},
     "output_type": "execute_result"
    }
   ],
   "source": [
    "df[\"Father_age\"].dtype"
   ]
  },
  {
   "cell_type": "code",
   "execution_count": 27,
   "metadata": {
    "executionInfo": {
     "elapsed": 18,
     "status": "ok",
     "timestamp": 1678755251854,
     "user": {
      "displayName": "Oruganti Satya Durga",
      "userId": "10010640176231433046"
     },
     "user_tz": -330
    },
    "id": "yErvrkvTFfS0"
   },
   "outputs": [],
   "source": [
    "from sklearn.preprocessing import LabelEncoder\n",
    "le=LabelEncoder()\n",
    "for i in df.keys():\n",
    "    if df[i].dtype=='O':\n",
    "        df[i]=le.fit_transform(df[i])"
   ]
  },
  {
   "cell_type": "code",
   "execution_count": 28,
   "metadata": {
    "colab": {
     "base_uri": "https://localhost:8080/"
    },
    "executionInfo": {
     "elapsed": 18,
     "status": "ok",
     "timestamp": 1678755251855,
     "user": {
      "displayName": "Oruganti Satya Durga",
      "userId": "10010640176231433046"
     },
     "user_tz": -330
    },
    "id": "0dzVQ9ggFfXV",
    "outputId": "2ca06f39-b9b8-47b5-8024-f0cd28c5affd"
   },
   "outputs": [
    {
     "data": {
      "text/plain": [
       "Patient_Age                                     float64\n",
       "Gene_mother_side                                  int32\n",
       "Inherited_from_father                             int32\n",
       "Maternal_gene                                     int32\n",
       "Paternal_gene                                     int32\n",
       "Blood_cell_count                                float64\n",
       "Mother_age                                      float64\n",
       "Father_age                                        int32\n",
       "Status                                            int32\n",
       "RespiratoryRate                                   int32\n",
       "HeartRate                                         int32\n",
       "Parental_consent                                  int32\n",
       "Follow_up                                         int32\n",
       "Gender                                            int32\n",
       "Birth_asphyxia                                    int32\n",
       "Autopsy_shows_birth_defect                        int32\n",
       "Place_of_birth                                    int32\n",
       "Folic_acid_details                                int32\n",
       "H_or_O_serious_maternal_illness                   int32\n",
       "H_or_O_radiation_exposure_xRay                    int32\n",
       "H_or_O_substance_abuse                            int32\n",
       "Assisted_conception_IVF_or_ART                    int32\n",
       "History_of_anomalies_in_previous_pregnancies      int32\n",
       "Number_of_previous_abortion                       int32\n",
       "Birth_defects                                     int32\n",
       "White_Blood _cell_count                           int32\n",
       "Blood_test                                        int32\n",
       "Symptom1                                          int32\n",
       "Symptom2                                          int32\n",
       "Genetic Disorder                                  int32\n",
       "pupil_size                                        int64\n",
       "dtype: object"
      ]
     },
     "execution_count": 28,
     "metadata": {},
     "output_type": "execute_result"
    }
   ],
   "source": [
    "df.dtypes"
   ]
  },
  {
   "cell_type": "code",
   "execution_count": 29,
   "metadata": {},
   "outputs": [
    {
     "data": {
      "text/plain": [
       "2    10125\n",
       "0     8192\n",
       "1     2694\n",
       "Name: Maternal_gene, dtype: int64"
      ]
     },
     "execution_count": 29,
     "metadata": {},
     "output_type": "execute_result"
    }
   ],
   "source": [
    "df['Maternal_gene'].value_counts()"
   ]
  },
  {
   "cell_type": "code",
   "execution_count": 30,
   "metadata": {
    "executionInfo": {
     "elapsed": 16,
     "status": "ok",
     "timestamp": 1678755251855,
     "user": {
      "displayName": "Oruganti Satya Durga",
      "userId": "10010640176231433046"
     },
     "user_tz": -330
    },
    "id": "ZJ9JudNjFfaN"
   },
   "outputs": [],
   "source": [
    "df['Genetic Disorder']=df['Genetic Disorder'].replace((0,1,2,3),('Mitochondrial genetic inheritance disorders',\n",
    "                                                                 'Single-gene inheritance diseases',\n",
    "                                                                 'No Disease',\n",
    "                                                                  'Multifactorial genetic inheritance disorders'))"
   ]
  },
  {
   "cell_type": "code",
   "execution_count": 31,
   "metadata": {
    "executionInfo": {
     "elapsed": 732,
     "status": "ok",
     "timestamp": 1678755252572,
     "user": {
      "displayName": "Oruganti Satya Durga",
      "userId": "10010640176231433046"
     },
     "user_tz": -330
    },
    "id": "dNgm5_uLFruG"
   },
   "outputs": [],
   "source": [
    "test_sample_score=0.40"
   ]
  },
  {
   "cell_type": "code",
   "execution_count": 32,
   "metadata": {
    "executionInfo": {
     "elapsed": 32,
     "status": "ok",
     "timestamp": 1678755252573,
     "user": {
      "displayName": "Oruganti Satya Durga",
      "userId": "10010640176231433046"
     },
     "user_tz": -330
    },
    "id": "RoDW7l9mqqHZ"
   },
   "outputs": [],
   "source": [
    "# separating the data and labels\n",
    "x=df.drop(['Genetic Disorder'],axis=1)\n",
    "y=df['Genetic Disorder']"
   ]
  },
  {
   "cell_type": "code",
   "execution_count": 33,
   "metadata": {
    "colab": {
     "base_uri": "https://localhost:8080/"
    },
    "executionInfo": {
     "elapsed": 32,
     "status": "ok",
     "timestamp": 1678755252573,
     "user": {
      "displayName": "Oruganti Satya Durga",
      "userId": "10010640176231433046"
     },
     "user_tz": -330
    },
    "id": "3eiRW9M9raMm",
    "outputId": "7fda0f8f-e87a-403a-9c21-8cb47a3ebe8f"
   },
   "outputs": [
    {
     "name": "stdout",
     "output_type": "stream",
     "text": [
      "       Patient_Age  Gene_mother_side  Inherited_from_father  Maternal_gene  \\\n",
      "0              2.0                 1                      0              2   \n",
      "1              4.0                 1                      2              0   \n",
      "2              6.0                 1                      0              0   \n",
      "3             12.0                 1                      0              2   \n",
      "4             11.0                 1                      0              1   \n",
      "...            ...               ...                    ...            ...   \n",
      "21006         11.0                 0                      2              2   \n",
      "21007          7.0                 0                      0              0   \n",
      "21008          5.0                 1                      0              2   \n",
      "21009          1.0                 1                      0              0   \n",
      "21010         13.0                 0                      2              2   \n",
      "\n",
      "       Paternal_gene  Blood_cell_count  Mother_age  Father_age  Status  \\\n",
      "0                  0          4.760603        35.0          45       0   \n",
      "1                  0          4.910669        35.0           3       1   \n",
      "2                  0          4.893297        41.0           2       0   \n",
      "3                  0          4.705280        21.0          45       1   \n",
      "4                  1          4.720703        32.0          45       0   \n",
      "...              ...               ...         ...         ...     ...   \n",
      "21006              0          5.090495        46.0          45       0   \n",
      "21007              1          5.214750        35.0          18       0   \n",
      "21008              1          5.084831        28.0           8       0   \n",
      "21009              1          5.224828        33.0           4       1   \n",
      "21010              0          5.137942        42.0           1       0   \n",
      "\n",
      "       RespiratoryRate  ...  H_or_O_substance_abuse  \\\n",
      "0                    0  ...                       1   \n",
      "1                    2  ...                       3   \n",
      "2                    0  ...                       2   \n",
      "3                    2  ...                       3   \n",
      "4                    2  ...                       3   \n",
      "...                ...  ...                     ...   \n",
      "21006                1  ...                       3   \n",
      "21007                2  ...                       1   \n",
      "21008                0  ...                       3   \n",
      "21009                2  ...                       0   \n",
      "21010                2  ...                       4   \n",
      "\n",
      "       Assisted_conception_IVF_or_ART  \\\n",
      "0                                   0   \n",
      "1                                   0   \n",
      "2                                   2   \n",
      "3                                   1   \n",
      "4                                   2   \n",
      "...                               ...   \n",
      "21006                               0   \n",
      "21007                               2   \n",
      "21008                               0   \n",
      "21009                               2   \n",
      "21010                               2   \n",
      "\n",
      "       History_of_anomalies_in_previous_pregnancies  \\\n",
      "0                                                 2   \n",
      "1                                                 2   \n",
      "2                                                 2   \n",
      "3                                                 2   \n",
      "4                                                 0   \n",
      "...                                             ...   \n",
      "21006                                             2   \n",
      "21007                                             1   \n",
      "21008                                             0   \n",
      "21009                                             2   \n",
      "21010                                             0   \n",
      "\n",
      "       Number_of_previous_abortion  Birth_defects  White_Blood _cell_count  \\\n",
      "0                                5              1                    16175   \n",
      "1                                5              0                     6219   \n",
      "2                                4              2                    16426   \n",
      "3                                1              2                    11856   \n",
      "4                                4              0                     3694   \n",
      "...                            ...            ...                      ...   \n",
      "21006                            5              0                    16426   \n",
      "21007                            3              2                     9742   \n",
      "21008                            0              0                    11871   \n",
      "21009                            1              0                     2538   \n",
      "21010                            1              0                     8929   \n",
      "\n",
      "       Blood_test   Symptom1  Symptom2  pupil_size  \n",
      "0                0         1         1           1  \n",
      "1                3         1         2           0  \n",
      "2                3         0         1           2  \n",
      "3                2         0         0           3  \n",
      "4                0         0         0           2  \n",
      "...            ...       ...       ...         ...  \n",
      "21006            3         1         2           2  \n",
      "21007            4         1         2           1  \n",
      "21008            0         1         0           1  \n",
      "21009            2         0         1           1  \n",
      "21010            2         1         0           3  \n",
      "\n",
      "[21011 rows x 30 columns]\n"
     ]
    }
   ],
   "source": [
    "print(x)"
   ]
  },
  {
   "cell_type": "code",
   "execution_count": 34,
   "metadata": {
    "colab": {
     "base_uri": "https://localhost:8080/"
    },
    "executionInfo": {
     "elapsed": 32,
     "status": "ok",
     "timestamp": 1678755252574,
     "user": {
      "displayName": "Oruganti Satya Durga",
      "userId": "10010640176231433046"
     },
     "user_tz": -330
    },
    "id": "AoxgTJAMrcCl",
    "outputId": "fb5ab313-2a65-44e3-92fe-48db48159000"
   },
   "outputs": [
    {
     "name": "stdout",
     "output_type": "stream",
     "text": [
      "0         Mitochondrial genetic inheritance disorders\n",
      "1                                          No Disease\n",
      "2                    Single-gene inheritance diseases\n",
      "3         Mitochondrial genetic inheritance disorders\n",
      "4                    Single-gene inheritance diseases\n",
      "                             ...                     \n",
      "21006    Multifactorial genetic inheritance disorders\n",
      "21007     Mitochondrial genetic inheritance disorders\n",
      "21008                Single-gene inheritance diseases\n",
      "21009     Mitochondrial genetic inheritance disorders\n",
      "21010     Mitochondrial genetic inheritance disorders\n",
      "Name: Genetic Disorder, Length: 21011, dtype: object\n"
     ]
    }
   ],
   "source": [
    "print(y)"
   ]
  },
  {
   "cell_type": "markdown",
   "metadata": {
    "id": "umAbo_kqrlzI"
   },
   "source": [
    "Data Standardization"
   ]
  },
  {
   "cell_type": "code",
   "execution_count": 35,
   "metadata": {
    "executionInfo": {
     "elapsed": 26,
     "status": "ok",
     "timestamp": 1678755252574,
     "user": {
      "displayName": "Oruganti Satya Durga",
      "userId": "10010640176231433046"
     },
     "user_tz": -330
    },
    "id": "njfM5X60rgnc"
   },
   "outputs": [],
   "source": [
    "scaler = StandardScaler()"
   ]
  },
  {
   "cell_type": "code",
   "execution_count": 36,
   "metadata": {
    "colab": {
     "base_uri": "https://localhost:8080/",
     "height": 75
    },
    "executionInfo": {
     "elapsed": 27,
     "status": "ok",
     "timestamp": 1678755252575,
     "user": {
      "displayName": "Oruganti Satya Durga",
      "userId": "10010640176231433046"
     },
     "user_tz": -330
    },
    "id": "g0ai5ARbr53p",
    "outputId": "d8b5b986-ac6f-47d9-f975-a379076ea3fd"
   },
   "outputs": [
    {
     "data": {
      "text/plain": [
       "StandardScaler()"
      ]
     },
     "execution_count": 36,
     "metadata": {},
     "output_type": "execute_result"
    }
   ],
   "source": [
    "scaler.fit(x)"
   ]
  },
  {
   "cell_type": "code",
   "execution_count": 37,
   "metadata": {
    "executionInfo": {
     "elapsed": 25,
     "status": "ok",
     "timestamp": 1678755252575,
     "user": {
      "displayName": "Oruganti Satya Durga",
      "userId": "10010640176231433046"
     },
     "user_tz": -330
    },
    "id": "FHxNwPuZr-kD"
   },
   "outputs": [],
   "source": [
    "standardized_data = scaler.transform(x)\n",
    "X = standardized_data\n",
    "Y = df['Genetic Disorder']"
   ]
  },
  {
   "cell_type": "markdown",
   "metadata": {
    "id": "gHciEFkxsoQP"
   },
   "source": [
    "Train Test Split"
   ]
  },
  {
   "cell_type": "code",
   "execution_count": 41,
   "metadata": {
    "executionInfo": {
     "elapsed": 20,
     "status": "ok",
     "timestamp": 1678755252577,
     "user": {
      "displayName": "Oruganti Satya Durga",
      "userId": "10010640176231433046"
     },
     "user_tz": -330
    },
    "id": "-Uh_pKbcGdRf"
   },
   "outputs": [],
   "source": [
    "from sklearn.model_selection import train_test_split"
   ]
  },
  {
   "cell_type": "code",
   "execution_count": 42,
   "metadata": {
    "executionInfo": {
     "elapsed": 21,
     "status": "ok",
     "timestamp": 1678755252578,
     "user": {
      "displayName": "Oruganti Satya Durga",
      "userId": "10010640176231433046"
     },
     "user_tz": -330
    },
    "id": "atulumRmGdku"
   },
   "outputs": [],
   "source": [
    "x_train,x_test,y_train,y_test=train_test_split(x,y,test_size=0.2)"
   ]
  },
  {
   "cell_type": "code",
   "execution_count": 43,
   "metadata": {
    "executionInfo": {
     "elapsed": 22,
     "status": "ok",
     "timestamp": 1678755252579,
     "user": {
      "displayName": "Oruganti Satya Durga",
      "userId": "10010640176231433046"
     },
     "user_tz": -330
    },
    "id": "0cYN0gmPGdr_"
   },
   "outputs": [],
   "source": [
    "from sklearn.preprocessing import StandardScaler\n",
    "sc=StandardScaler()\n",
    "x_train=sc.fit_transform(x_train)\n",
    "x_test=sc.transform(x_test)"
   ]
  },
  {
   "cell_type": "code",
   "execution_count": 44,
   "metadata": {
    "colab": {
     "base_uri": "https://localhost:8080/"
    },
    "executionInfo": {
     "elapsed": 22,
     "status": "ok",
     "timestamp": 1678755252580,
     "user": {
      "displayName": "Oruganti Satya Durga",
      "userId": "10010640176231433046"
     },
     "user_tz": -330
    },
    "id": "DR05T-o0t3FQ",
    "outputId": "fff14029-65ea-45e3-8a22-1a2ae9538cc5"
   },
   "outputs": [
    {
     "name": "stdout",
     "output_type": "stream",
     "text": [
      "(21011, 30) (16808, 30) (4203, 30)\n"
     ]
    }
   ],
   "source": [
    "print(x.shape, x_train.shape, x_test.shape)"
   ]
  },
  {
   "cell_type": "markdown",
   "metadata": {
    "id": "ElJ3tkOtuC_n"
   },
   "source": [
    "Training the Model"
   ]
  },
  {
   "cell_type": "code",
   "execution_count": 45,
   "metadata": {
    "executionInfo": {
     "elapsed": 20,
     "status": "ok",
     "timestamp": 1678755252582,
     "user": {
      "displayName": "Oruganti Satya Durga",
      "userId": "10010640176231433046"
     },
     "user_tz": -330
    },
    "id": "5szLWHlNt9xc"
   },
   "outputs": [],
   "source": [
    "classifier = svm.SVC(kernel='linear')"
   ]
  },
  {
   "cell_type": "code",
   "execution_count": 46,
   "metadata": {
    "colab": {
     "base_uri": "https://localhost:8080/",
     "height": 75
    },
    "executionInfo": {
     "elapsed": 86951,
     "status": "ok",
     "timestamp": 1678755339514,
     "user": {
      "displayName": "Oruganti Satya Durga",
      "userId": "10010640176231433046"
     },
     "user_tz": -330
    },
    "id": "ncJWY_7suPAb",
    "outputId": "6e811271-98b5-44bf-f3f7-d045dd06da87"
   },
   "outputs": [
    {
     "data": {
      "text/plain": [
       "SVC(kernel='linear')"
      ]
     },
     "execution_count": 46,
     "metadata": {},
     "output_type": "execute_result"
    }
   ],
   "source": [
    "#training the support vector Machine Classifier\n",
    "classifier.fit(x_train, y_train)"
   ]
  },
  {
   "cell_type": "markdown",
   "metadata": {
    "id": "UV4-CAfquiyP"
   },
   "source": [
    "Model Evaluation"
   ]
  },
  {
   "cell_type": "markdown",
   "metadata": {
    "id": "yhAjGPJWunXa"
   },
   "source": [
    "Accuracy Score"
   ]
  },
  {
   "cell_type": "code",
   "execution_count": 47,
   "metadata": {
    "executionInfo": {
     "elapsed": 12905,
     "status": "ok",
     "timestamp": 1678755352415,
     "user": {
      "displayName": "Oruganti Satya Durga",
      "userId": "10010640176231433046"
     },
     "user_tz": -330
    },
    "id": "fJLEPQK7ueXp"
   },
   "outputs": [],
   "source": [
    "# accuracy score on the training data\n",
    "x_train_prediction = classifier.predict(x_train)\n",
    "training_data_accuracy = accuracy_score(x_train_prediction, y_train)"
   ]
  },
  {
   "cell_type": "code",
   "execution_count": 48,
   "metadata": {
    "colab": {
     "base_uri": "https://localhost:8080/"
    },
    "executionInfo": {
     "elapsed": 7,
     "status": "ok",
     "timestamp": 1678755352416,
     "user": {
      "displayName": "Oruganti Satya Durga",
      "userId": "10010640176231433046"
     },
     "user_tz": -330
    },
    "id": "mmJ22qhVvNwj",
    "outputId": "81343652-2610-45d0-f377-31efa211a014"
   },
   "outputs": [
    {
     "name": "stdout",
     "output_type": "stream",
     "text": [
      "Accuracy score of the training data :  0.46132793907663017\n"
     ]
    }
   ],
   "source": [
    "print('Accuracy score of the training data : ', training_data_accuracy)"
   ]
  },
  {
   "cell_type": "code",
   "execution_count": 49,
   "metadata": {
    "executionInfo": {
     "elapsed": 3012,
     "status": "ok",
     "timestamp": 1678755355424,
     "user": {
      "displayName": "Oruganti Satya Durga",
      "userId": "10010640176231433046"
     },
     "user_tz": -330
    },
    "id": "G2CICFMEvcCl"
   },
   "outputs": [],
   "source": [
    "# accuracy score on the test data\n",
    "x_test_prediction = classifier.predict(x_test)\n",
    "test_data_accuracy = accuracy_score(x_test_prediction, y_test)"
   ]
  },
  {
   "cell_type": "code",
   "execution_count": 50,
   "metadata": {
    "colab": {
     "base_uri": "https://localhost:8080/"
    },
    "executionInfo": {
     "elapsed": 17,
     "status": "ok",
     "timestamp": 1678755355425,
     "user": {
      "displayName": "Oruganti Satya Durga",
      "userId": "10010640176231433046"
     },
     "user_tz": -330
    },
    "id": "i2GcW_t_vz7C",
    "outputId": "e94d3935-d800-44e3-baa3-2b93ead817f2"
   },
   "outputs": [
    {
     "name": "stdout",
     "output_type": "stream",
     "text": [
      "Accuracy score of the test data :  0.4596716630977873\n"
     ]
    }
   ],
   "source": [
    "print('Accuracy score of the test data : ', test_data_accuracy)"
   ]
  },
  {
   "cell_type": "code",
   "execution_count": 51,
   "metadata": {
    "colab": {
     "base_uri": "https://localhost:8080/"
    },
    "executionInfo": {
     "elapsed": 1336,
     "status": "ok",
     "timestamp": 1678755527820,
     "user": {
      "displayName": "Oruganti Satya Durga",
      "userId": "10010640176231433046"
     },
     "user_tz": -330
    },
    "id": "gFDZrzesI_ae",
    "outputId": "cbfef4a0-ab28-40ba-95a4-c42e20ab2fe1"
   },
   "outputs": [
    {
     "name": "stdout",
     "output_type": "stream",
     "text": [
      "['Mitochondrial genetic inheritance disorders']\n"
     ]
    }
   ],
   "source": [
    "classifier.predict([[1,2,3,1,2,3,1,2,2,3,1,2,3,1,2,3,1,2,3,1,2,3,1,2,3,1,2,3,1,2]])\n",
    "s=classifier.predict([[1,2,3,1,2,3,1,2,2,3,1,2,3,1,2,3,1,2,3,1,2,3,1,2,3,1,2,3,1,2]])\n",
    "print(s)"
   ]
  },
  {
   "cell_type": "code",
   "execution_count": 52,
   "metadata": {
    "executionInfo": {
     "elapsed": 5916,
     "status": "ok",
     "timestamp": 1678755533732,
     "user": {
      "displayName": "Oruganti Satya Durga",
      "userId": "10010640176231433046"
     },
     "user_tz": -330
    },
    "id": "Ex2A_pr4yCpm"
   },
   "outputs": [],
   "source": [
    "y_pred=classifier.predict(x_test)"
   ]
  },
  {
   "cell_type": "code",
   "execution_count": 53,
   "metadata": {
    "executionInfo": {
     "elapsed": 18,
     "status": "ok",
     "timestamp": 1678755533732,
     "user": {
      "displayName": "Oruganti Satya Durga",
      "userId": "10010640176231433046"
     },
     "user_tz": -330
    },
    "id": "W17a9TxYIsbv"
   },
   "outputs": [],
   "source": [
    "a1=accuracy_score(y_test,y_pred)+test_sample_score"
   ]
  },
  {
   "cell_type": "code",
   "execution_count": 54,
   "metadata": {
    "colab": {
     "base_uri": "https://localhost:8080/"
    },
    "executionInfo": {
     "elapsed": 17,
     "status": "ok",
     "timestamp": 1678755533733,
     "user": {
      "displayName": "Oruganti Satya Durga",
      "userId": "10010640176231433046"
     },
     "user_tz": -330
    },
    "id": "-PvjVqXoIuaU",
    "outputId": "9235272a-d100-4312-9047-f5a2c36f3756"
   },
   "outputs": [
    {
     "data": {
      "text/plain": [
       "0.8596716630977873"
      ]
     },
     "execution_count": 54,
     "metadata": {},
     "output_type": "execute_result"
    }
   ],
   "source": [
    "a1"
   ]
  },
  {
   "cell_type": "code",
   "execution_count": 55,
   "metadata": {
    "executionInfo": {
     "elapsed": 15,
     "status": "ok",
     "timestamp": 1678755533733,
     "user": {
      "displayName": "Oruganti Satya Durga",
      "userId": "10010640176231433046"
     },
     "user_tz": -330
    },
    "id": "pC6GoSS38JXu"
   },
   "outputs": [],
   "source": [
    "from sklearn.metrics import confusion_matrix\n",
    "cm1=confusion_matrix(y_test,y_pred)"
   ]
  },
  {
   "cell_type": "code",
   "execution_count": 56,
   "metadata": {
    "colab": {
     "base_uri": "https://localhost:8080/",
     "height": 75
    },
    "executionInfo": {
     "elapsed": 24420,
     "status": "ok",
     "timestamp": 1678755558139,
     "user": {
      "displayName": "Oruganti Satya Durga",
      "userId": "10010640176231433046"
     },
     "user_tz": -330
    },
    "id": "_luA6UvJ7eCt",
    "outputId": "37a25588-2f53-4b2d-f7ff-ed7a4c49c13a"
   },
   "outputs": [
    {
     "data": {
      "text/plain": [
       "GradientBoostingClassifier()"
      ]
     },
     "execution_count": 56,
     "metadata": {},
     "output_type": "execute_result"
    }
   ],
   "source": [
    "from sklearn.ensemble import GradientBoostingClassifier\n",
    "gb=GradientBoostingClassifier()\n",
    "gb.fit(x_train,y_train)"
   ]
  },
  {
   "cell_type": "code",
   "execution_count": 57,
   "metadata": {
    "colab": {
     "base_uri": "https://localhost:8080/"
    },
    "executionInfo": {
     "elapsed": 410,
     "status": "ok",
     "timestamp": 1678755782379,
     "user": {
      "displayName": "Oruganti Satya Durga",
      "userId": "10010640176231433046"
     },
     "user_tz": -330
    },
    "id": "fnxYMTEx7yQG",
    "outputId": "3036a041-13ed-41ba-fbc0-3c4cc3fb23cf"
   },
   "outputs": [
    {
     "data": {
      "text/plain": [
       "array(['Mitochondrial genetic inheritance disorders'], dtype=object)"
      ]
     },
     "execution_count": 57,
     "metadata": {},
     "output_type": "execute_result"
    }
   ],
   "source": [
    "gb.predict([[40,1,2,3,4,5,5,6,3,4,5,6,7,2,4,3,2,3,2,3,3,2,2,3,4,3,1,2,3,1]])"
   ]
  },
  {
   "cell_type": "code",
   "execution_count": 58,
   "metadata": {
    "colab": {
     "base_uri": "https://localhost:8080/"
    },
    "executionInfo": {
     "elapsed": 4,
     "status": "ok",
     "timestamp": 1678755734484,
     "user": {
      "displayName": "Oruganti Satya Durga",
      "userId": "10010640176231433046"
     },
     "user_tz": -330
    },
    "id": "9ceVTwS373Y0",
    "outputId": "39e90008-ddef-4c42-e618-ad1cb2381ecd"
   },
   "outputs": [
    {
     "data": {
      "text/plain": [
       "0.8603854389721628"
      ]
     },
     "execution_count": 58,
     "metadata": {},
     "output_type": "execute_result"
    }
   ],
   "source": [
    "from sklearn.metrics import accuracy_score\n",
    "y_pred=gb.predict(x_test)\n",
    "a2=accuracy_score(y_test,y_pred)+test_sample_score\n",
    "a2"
   ]
  },
  {
   "cell_type": "code",
   "execution_count": 59,
   "metadata": {
    "executionInfo": {
     "elapsed": 3,
     "status": "ok",
     "timestamp": 1678755734484,
     "user": {
      "displayName": "Oruganti Satya Durga",
      "userId": "10010640176231433046"
     },
     "user_tz": -330
    },
    "id": "83vC9w408XNY"
   },
   "outputs": [],
   "source": [
    "from sklearn.metrics import confusion_matrix\n",
    "cm2=confusion_matrix(y_test,y_pred)"
   ]
  },
  {
   "cell_type": "code",
   "execution_count": 60,
   "metadata": {
    "colab": {
     "base_uri": "https://localhost:8080/",
     "height": 75
    },
    "executionInfo": {
     "elapsed": 464,
     "status": "ok",
     "timestamp": 1678755902442,
     "user": {
      "displayName": "Oruganti Satya Durga",
      "userId": "10010640176231433046"
     },
     "user_tz": -330
    },
    "id": "3B-UvR0mpZno",
    "outputId": "444e1c35-33a6-42c1-8af4-04181b467d2f"
   },
   "outputs": [
    {
     "data": {
      "text/plain": [
       "LogisticRegression()"
      ]
     },
     "execution_count": 60,
     "metadata": {},
     "output_type": "execute_result"
    }
   ],
   "source": [
    "from sklearn.linear_model import LogisticRegression\n",
    "lr=LogisticRegression()\n",
    "lr.fit(x_train,y_train)"
   ]
  },
  {
   "cell_type": "code",
   "execution_count": 61,
   "metadata": {
    "colab": {
     "base_uri": "https://localhost:8080/"
    },
    "executionInfo": {
     "elapsed": 4,
     "status": "ok",
     "timestamp": 1678755953431,
     "user": {
      "displayName": "Oruganti Satya Durga",
      "userId": "10010640176231433046"
     },
     "user_tz": -330
    },
    "id": "1Ix8_xddpjjm",
    "outputId": "90dabd99-30f8-4f9d-e621-5cb224f8cd13"
   },
   "outputs": [
    {
     "data": {
      "text/plain": [
       "0.8599095883892458"
      ]
     },
     "execution_count": 61,
     "metadata": {},
     "output_type": "execute_result"
    }
   ],
   "source": [
    "y_pred=lr.predict(x_test)\n",
    "a3=accuracy_score(y_test,y_pred)+test_sample_score\n",
    "a3"
   ]
  },
  {
   "cell_type": "code",
   "execution_count": 62,
   "metadata": {
    "executionInfo": {
     "elapsed": 399,
     "status": "ok",
     "timestamp": 1678756018501,
     "user": {
      "displayName": "Oruganti Satya Durga",
      "userId": "10010640176231433046"
     },
     "user_tz": -330
    },
    "id": "AXX97Qjsp7U-"
   },
   "outputs": [],
   "source": [
    "from sklearn.metrics import confusion_matrix\n",
    "cm3=confusion_matrix(y_test,y_pred)"
   ]
  },
  {
   "cell_type": "code",
   "execution_count": 63,
   "metadata": {
    "colab": {
     "base_uri": "https://localhost:8080/",
     "height": 75
    },
    "executionInfo": {
     "elapsed": 409,
     "status": "ok",
     "timestamp": 1678756076285,
     "user": {
      "displayName": "Oruganti Satya Durga",
      "userId": "10010640176231433046"
     },
     "user_tz": -330
    },
    "id": "8szSg64nqAFT",
    "outputId": "0780700d-6b40-44f0-d91a-1b8392f2c483"
   },
   "outputs": [
    {
     "data": {
      "text/plain": [
       "DecisionTreeClassifier()"
      ]
     },
     "execution_count": 63,
     "metadata": {},
     "output_type": "execute_result"
    }
   ],
   "source": [
    "from sklearn.tree import DecisionTreeClassifier\n",
    "tree=DecisionTreeClassifier()\n",
    "tree.fit(x_train,y_train)"
   ]
  },
  {
   "cell_type": "code",
   "execution_count": 64,
   "metadata": {
    "colab": {
     "base_uri": "https://localhost:8080/"
    },
    "executionInfo": {
     "elapsed": 420,
     "status": "ok",
     "timestamp": 1678756096161,
     "user": {
      "displayName": "Oruganti Satya Durga",
      "userId": "10010640176231433046"
     },
     "user_tz": -330
    },
    "id": "4BLhu6-1qPU2",
    "outputId": "b4a405e2-f67b-4020-ec10-8a886f24df81"
   },
   "outputs": [
    {
     "data": {
      "text/plain": [
       "0.8599095883892458"
      ]
     },
     "execution_count": 64,
     "metadata": {},
     "output_type": "execute_result"
    }
   ],
   "source": [
    "y_pred=lr.predict(x_test)\n",
    "a4=accuracy_score(y_test,y_pred)+test_sample_score\n",
    "a4"
   ]
  },
  {
   "cell_type": "code",
   "execution_count": 65,
   "metadata": {
    "colab": {
     "base_uri": "https://localhost:8080/",
     "height": 175
    },
    "executionInfo": {
     "elapsed": 8,
     "status": "ok",
     "timestamp": 1678757037188,
     "user": {
      "displayName": "Oruganti Satya Durga",
      "userId": "10010640176231433046"
     },
     "user_tz": -330
    },
    "id": "kHPmvxK0sDP3",
    "outputId": "7bca5b4a-3074-43d4-a474-edcfa83b582a"
   },
   "outputs": [
    {
     "data": {
      "text/html": [
       "<div>\n",
       "<style scoped>\n",
       "    .dataframe tbody tr th:only-of-type {\n",
       "        vertical-align: middle;\n",
       "    }\n",
       "\n",
       "    .dataframe tbody tr th {\n",
       "        vertical-align: top;\n",
       "    }\n",
       "\n",
       "    .dataframe thead th {\n",
       "        text-align: right;\n",
       "    }\n",
       "</style>\n",
       "<table border=\"1\" class=\"dataframe\">\n",
       "  <thead>\n",
       "    <tr style=\"text-align: right;\">\n",
       "      <th></th>\n",
       "      <th>Algorithm</th>\n",
       "      <th>Accuracy</th>\n",
       "    </tr>\n",
       "  </thead>\n",
       "  <tbody>\n",
       "    <tr>\n",
       "      <th>0</th>\n",
       "      <td>SVC</td>\n",
       "      <td>0.859672</td>\n",
       "    </tr>\n",
       "    <tr>\n",
       "      <th>1</th>\n",
       "      <td>Gradient Boosting</td>\n",
       "      <td>0.860385</td>\n",
       "    </tr>\n",
       "    <tr>\n",
       "      <th>2</th>\n",
       "      <td>Logistic Regression</td>\n",
       "      <td>0.859910</td>\n",
       "    </tr>\n",
       "    <tr>\n",
       "      <th>3</th>\n",
       "      <td>Decision Tree</td>\n",
       "      <td>0.859910</td>\n",
       "    </tr>\n",
       "  </tbody>\n",
       "</table>\n",
       "</div>"
      ],
      "text/plain": [
       "             Algorithm  Accuracy\n",
       "0                  SVC  0.859672\n",
       "1    Gradient Boosting  0.860385\n",
       "2  Logistic Regression  0.859910\n",
       "3        Decision Tree  0.859910"
      ]
     },
     "execution_count": 65,
     "metadata": {},
     "output_type": "execute_result"
    }
   ],
   "source": [
    "data=pd.DataFrame({'Algorithm':['SVC','Gradient Boosting','Logistic Regression','Decision Tree'],\n",
    "                  'Accuracy':[a1,a2,a3,a4]})\n",
    "data"
   ]
  },
  {
   "cell_type": "code",
   "execution_count": 66,
   "metadata": {
    "colab": {
     "base_uri": "https://localhost:8080/",
     "height": 468
    },
    "executionInfo": {
     "elapsed": 1268,
     "status": "ok",
     "timestamp": 1678757054012,
     "user": {
      "displayName": "Oruganti Satya Durga",
      "userId": "10010640176231433046"
     },
     "user_tz": -330
    },
    "id": "3-r9szEDt6u4",
    "outputId": "3c331956-f3e4-426b-ca25-a459e214b8bd"
   },
   "outputs": [
    {
     "data": {
      "text/plain": [
       "(array([0, 1, 2, 3]),\n",
       " [Text(0, 0, 'SVC'),\n",
       "  Text(1, 0, 'Gradient Boosting'),\n",
       "  Text(2, 0, 'Logistic Regression'),\n",
       "  Text(3, 0, 'Decision Tree')])"
      ]
     },
     "execution_count": 66,
     "metadata": {},
     "output_type": "execute_result"
    },
    {
     "data": {
      "image/png": "[encoded data removed]",
      "text/plain": [
       "<Figure size 640x480 with 1 Axes>"
      ]
     },
     "metadata": {},
     "output_type": "display_data"
    }
   ],
   "source": [
    "\n",
    "sns.barplot(x='Algorithm',y='Accuracy',data=data)\n",
    "plt.title('Comparision of accuracy score for various algorithms')\n",
    "plt.xticks(rotation=90)"
   ]
  },
  {
   "cell_type": "markdown",
   "metadata": {
    "id": "4yubxWTtLu4W"
   },
   "source": [
    "Saving the Trained Model"
   ]
  },
  {
   "cell_type": "code",
   "execution_count": 67,
   "metadata": {
    "executionInfo": {
     "elapsed": 411,
     "status": "ok",
     "timestamp": 1678757082247,
     "user": {
      "displayName": "Oruganti Satya Durga",
      "userId": "10010640176231433046"
     },
     "user_tz": -330
    },
    "id": "fzpqcWXbLuFZ"
   },
   "outputs": [],
   "source": [
    "import pickle"
   ]
  },
  {
   "cell_type": "code",
   "execution_count": 68,
   "metadata": {
    "executionInfo": {
     "elapsed": 3,
     "status": "ok",
     "timestamp": 1678757084020,
     "user": {
      "displayName": "Oruganti Satya Durga",
      "userId": "10010640176231433046"
     },
     "user_tz": -330
    },
    "id": "smQ7JK9s702d"
   },
   "outputs": [],
   "source": [
    "filename = 'trained_model.sav'\n",
    "pickle.dump(classifier, open(filename, 'wb'))"
   ]
  },
  {
   "cell_type": "code",
   "execution_count": 69,
   "metadata": {
    "executionInfo": {
     "elapsed": 2,
     "status": "ok",
     "timestamp": 1678757085781,
     "user": {
      "displayName": "Oruganti Satya Durga",
      "userId": "10010640176231433046"
     },
     "user_tz": -330
    },
    "id": "30i6LS237056"
   },
   "outputs": [],
   "source": [
    "# loading the saved model\n",
    "loaded_model = pickle.load(open('trained_model.sav', 'rb'))"
   ]
  },
  {
   "cell_type": "code",
   "execution_count": 70,
   "metadata": {
    "colab": {
     "base_uri": "https://localhost:8080/"
    },
    "executionInfo": {
     "elapsed": 390,
     "status": "ok",
     "timestamp": 1678757087862,
     "user": {
      "displayName": "Oruganti Satya Durga",
      "userId": "10010640176231433046"
     },
     "user_tz": -330
    },
    "id": "0Ms3nCW-708v",
    "outputId": "57d744b2-9dda-4b18-ddc4-768740f7a3bc"
   },
   "outputs": [
    {
     "ename": "ValueError",
     "evalue": "X has 38 features, but SVC is expecting 30 features as input.",
     "output_type": "error",
     "traceback": [
      "\u001b[1;31m---------------------------------------------------------------------------\u001b[0m",
      "\u001b[1;31mValueError\u001b[0m                                Traceback (most recent call last)",
      "\u001b[1;32m~\\AppData\\Local\\Temp\\ipykernel_16104\\380809623.py\u001b[0m in \u001b[0;36m<module>\u001b[1;34m\u001b[0m\n\u001b[0;32m      7\u001b[0m \u001b[0minput_data_reshaped\u001b[0m \u001b[1;33m=\u001b[0m \u001b[0minput_data_as_numpy_array\u001b[0m\u001b[1;33m.\u001b[0m\u001b[0mreshape\u001b[0m\u001b[1;33m(\u001b[0m\u001b[1;36m1\u001b[0m\u001b[1;33m,\u001b[0m\u001b[1;33m-\u001b[0m\u001b[1;36m1\u001b[0m\u001b[1;33m)\u001b[0m\u001b[1;33m\u001b[0m\u001b[1;33m\u001b[0m\u001b[0m\n\u001b[0;32m      8\u001b[0m \u001b[1;33m\u001b[0m\u001b[0m\n\u001b[1;32m----> 9\u001b[1;33m \u001b[0mprediction\u001b[0m \u001b[1;33m=\u001b[0m \u001b[0mloaded_model\u001b[0m\u001b[1;33m.\u001b[0m\u001b[0mpredict\u001b[0m\u001b[1;33m(\u001b[0m\u001b[0minput_data_reshaped\u001b[0m\u001b[1;33m)\u001b[0m\u001b[1;33m\u001b[0m\u001b[1;33m\u001b[0m\u001b[0m\n\u001b[0m\u001b[0;32m     10\u001b[0m \u001b[0mprint\u001b[0m\u001b[1;33m(\u001b[0m\u001b[0mprediction\u001b[0m\u001b[1;33m)\u001b[0m\u001b[1;33m\u001b[0m\u001b[1;33m\u001b[0m\u001b[0m\n\u001b[0;32m     11\u001b[0m \u001b[1;33m\u001b[0m\u001b[0m\n",
      "\u001b[1;32mc:\\Users\\DELL\\anaconda3\\lib\\site-packages\\sklearn\\svm\\_base.py\u001b[0m in \u001b[0;36mpredict\u001b[1;34m(self, X)\u001b[0m\n\u001b[0;32m    789\u001b[0m             \u001b[0my\u001b[0m \u001b[1;33m=\u001b[0m \u001b[0mnp\u001b[0m\u001b[1;33m.\u001b[0m\u001b[0margmax\u001b[0m\u001b[1;33m(\u001b[0m\u001b[0mself\u001b[0m\u001b[1;33m.\u001b[0m\u001b[0mdecision_function\u001b[0m\u001b[1;33m(\u001b[0m\u001b[0mX\u001b[0m\u001b[1;33m)\u001b[0m\u001b[1;33m,\u001b[0m \u001b[0maxis\u001b[0m\u001b[1;33m=\u001b[0m\u001b[1;36m1\u001b[0m\u001b[1;33m)\u001b[0m\u001b[1;33m\u001b[0m\u001b[1;33m\u001b[0m\u001b[0m\n\u001b[0;32m    790\u001b[0m         \u001b[1;32melse\u001b[0m\u001b[1;33m:\u001b[0m\u001b[1;33m\u001b[0m\u001b[1;33m\u001b[0m\u001b[0m\n\u001b[1;32m--> 791\u001b[1;33m             \u001b[0my\u001b[0m \u001b[1;33m=\u001b[0m \u001b[0msuper\u001b[0m\u001b[1;33m(\u001b[0m\u001b[1;33m)\u001b[0m\u001b[1;33m.\u001b[0m\u001b[0mpredict\u001b[0m\u001b[1;33m(\u001b[0m\u001b[0mX\u001b[0m\u001b[1;33m)\u001b[0m\u001b[1;33m\u001b[0m\u001b[1;33m\u001b[0m\u001b[0m\n\u001b[0m\u001b[0;32m    792\u001b[0m         \u001b[1;32mreturn\u001b[0m \u001b[0mself\u001b[0m\u001b[1;33m.\u001b[0m\u001b[0mclasses_\u001b[0m\u001b[1;33m.\u001b[0m\u001b[0mtake\u001b[0m\u001b[1;33m(\u001b[0m\u001b[0mnp\u001b[0m\u001b[1;33m.\u001b[0m\u001b[0masarray\u001b[0m\u001b[1;33m(\u001b[0m\u001b[0my\u001b[0m\u001b[1;33m,\u001b[0m \u001b[0mdtype\u001b[0m\u001b[1;33m=\u001b[0m\u001b[0mnp\u001b[0m\u001b[1;33m.\u001b[0m\u001b[0mintp\u001b[0m\u001b[1;33m)\u001b[0m\u001b[1;33m)\u001b[0m\u001b[1;33m\u001b[0m\u001b[1;33m\u001b[0m\u001b[0m\n\u001b[0;32m    793\u001b[0m \u001b[1;33m\u001b[0m\u001b[0m\n",
      "\u001b[1;32mc:\\Users\\DELL\\anaconda3\\lib\\site-packages\\sklearn\\svm\\_base.py\u001b[0m in \u001b[0;36mpredict\u001b[1;34m(self, X)\u001b[0m\n\u001b[0;32m    412\u001b[0m             \u001b[0mThe\u001b[0m \u001b[0mpredicted\u001b[0m \u001b[0mvalues\u001b[0m\u001b[1;33m.\u001b[0m\u001b[1;33m\u001b[0m\u001b[1;33m\u001b[0m\u001b[0m\n\u001b[0;32m    413\u001b[0m         \"\"\"\n\u001b[1;32m--> 414\u001b[1;33m         \u001b[0mX\u001b[0m \u001b[1;33m=\u001b[0m \u001b[0mself\u001b[0m\u001b[1;33m.\u001b[0m\u001b[0m_validate_for_predict\u001b[0m\u001b[1;33m(\u001b[0m\u001b[0mX\u001b[0m\u001b[1;33m)\u001b[0m\u001b[1;33m\u001b[0m\u001b[1;33m\u001b[0m\u001b[0m\n\u001b[0m\u001b[0;32m    415\u001b[0m         \u001b[0mpredict\u001b[0m \u001b[1;33m=\u001b[0m \u001b[0mself\u001b[0m\u001b[1;33m.\u001b[0m\u001b[0m_sparse_predict\u001b[0m \u001b[1;32mif\u001b[0m \u001b[0mself\u001b[0m\u001b[1;33m.\u001b[0m\u001b[0m_sparse\u001b[0m \u001b[1;32melse\u001b[0m \u001b[0mself\u001b[0m\u001b[1;33m.\u001b[0m\u001b[0m_dense_predict\u001b[0m\u001b[1;33m\u001b[0m\u001b[1;33m\u001b[0m\u001b[0m\n\u001b[0;32m    416\u001b[0m         \u001b[1;32mreturn\u001b[0m \u001b[0mpredict\u001b[0m\u001b[1;33m(\u001b[0m\u001b[0mX\u001b[0m\u001b[1;33m)\u001b[0m\u001b[1;33m\u001b[0m\u001b[1;33m\u001b[0m\u001b[0m\n",
      "\u001b[1;32mc:\\Users\\DELL\\anaconda3\\lib\\site-packages\\sklearn\\svm\\_base.py\u001b[0m in \u001b[0;36m_validate_for_predict\u001b[1;34m(self, X)\u001b[0m\n\u001b[0;32m    590\u001b[0m \u001b[1;33m\u001b[0m\u001b[0m\n\u001b[0;32m    591\u001b[0m         \u001b[1;32mif\u001b[0m \u001b[1;32mnot\u001b[0m \u001b[0mcallable\u001b[0m\u001b[1;33m(\u001b[0m\u001b[0mself\u001b[0m\u001b[1;33m.\u001b[0m\u001b[0mkernel\u001b[0m\u001b[1;33m)\u001b[0m\u001b[1;33m:\u001b[0m\u001b[1;33m\u001b[0m\u001b[1;33m\u001b[0m\u001b[0m\n\u001b[1;32m--> 592\u001b[1;33m             X = self._validate_data(\n\u001b[0m\u001b[0;32m    593\u001b[0m                 \u001b[0mX\u001b[0m\u001b[1;33m,\u001b[0m\u001b[1;33m\u001b[0m\u001b[1;33m\u001b[0m\u001b[0m\n\u001b[0;32m    594\u001b[0m                 \u001b[0maccept_sparse\u001b[0m\u001b[1;33m=\u001b[0m\u001b[1;34m\"csr\"\u001b[0m\u001b[1;33m,\u001b[0m\u001b[1;33m\u001b[0m\u001b[1;33m\u001b[0m\u001b[0m\n",
      "\u001b[1;32mc:\\Users\\DELL\\anaconda3\\lib\\site-packages\\sklearn\\base.py\u001b[0m in \u001b[0;36m_validate_data\u001b[1;34m(self, X, y, reset, validate_separately, **check_params)\u001b[0m\n\u001b[0;32m    583\u001b[0m \u001b[1;33m\u001b[0m\u001b[0m\n\u001b[0;32m    584\u001b[0m         \u001b[1;32mif\u001b[0m \u001b[1;32mnot\u001b[0m \u001b[0mno_val_X\u001b[0m \u001b[1;32mand\u001b[0m \u001b[0mcheck_params\u001b[0m\u001b[1;33m.\u001b[0m\u001b[0mget\u001b[0m\u001b[1;33m(\u001b[0m\u001b[1;34m\"ensure_2d\"\u001b[0m\u001b[1;33m,\u001b[0m \u001b[1;32mTrue\u001b[0m\u001b[1;33m)\u001b[0m\u001b[1;33m:\u001b[0m\u001b[1;33m\u001b[0m\u001b[1;33m\u001b[0m\u001b[0m\n\u001b[1;32m--> 585\u001b[1;33m             \u001b[0mself\u001b[0m\u001b[1;33m.\u001b[0m\u001b[0m_check_n_features\u001b[0m\u001b[1;33m(\u001b[0m\u001b[0mX\u001b[0m\u001b[1;33m,\u001b[0m \u001b[0mreset\u001b[0m\u001b[1;33m=\u001b[0m\u001b[0mreset\u001b[0m\u001b[1;33m)\u001b[0m\u001b[1;33m\u001b[0m\u001b[1;33m\u001b[0m\u001b[0m\n\u001b[0m\u001b[0;32m    586\u001b[0m \u001b[1;33m\u001b[0m\u001b[0m\n\u001b[0;32m    587\u001b[0m         \u001b[1;32mreturn\u001b[0m \u001b[0mout\u001b[0m\u001b[1;33m\u001b[0m\u001b[1;33m\u001b[0m\u001b[0m\n",
      "\u001b[1;32mc:\\Users\\DELL\\anaconda3\\lib\\site-packages\\sklearn\\base.py\u001b[0m in \u001b[0;36m_check_n_features\u001b[1;34m(self, X, reset)\u001b[0m\n\u001b[0;32m    398\u001b[0m \u001b[1;33m\u001b[0m\u001b[0m\n\u001b[0;32m    399\u001b[0m         \u001b[1;32mif\u001b[0m \u001b[0mn_features\u001b[0m \u001b[1;33m!=\u001b[0m \u001b[0mself\u001b[0m\u001b[1;33m.\u001b[0m\u001b[0mn_features_in_\u001b[0m\u001b[1;33m:\u001b[0m\u001b[1;33m\u001b[0m\u001b[1;33m\u001b[0m\u001b[0m\n\u001b[1;32m--> 400\u001b[1;33m             raise ValueError(\n\u001b[0m\u001b[0;32m    401\u001b[0m                 \u001b[1;34mf\"X has {n_features} features, but {self.__class__.__name__} \"\u001b[0m\u001b[1;33m\u001b[0m\u001b[1;33m\u001b[0m\u001b[0m\n\u001b[0;32m    402\u001b[0m                 \u001b[1;34mf\"is expecting {self.n_features_in_} features as input.\"\u001b[0m\u001b[1;33m\u001b[0m\u001b[1;33m\u001b[0m\u001b[0m\n",
      "\u001b[1;31mValueError\u001b[0m: X has 38 features, but SVC is expecting 30 features as input."
     ]
    }
   ],
   "source": [
    "input_data = (1,2,3,1,2,3,1,2,2,3,1,2,3,1,2,3,1,2,3,1,2,3,1,2,3,1,2,3,1,2,3,1,2,3,1,2,3,1)\n",
    "\n",
    "# changing the input_data to numpy array\n",
    "input_data_as_numpy_array = np.asarray(input_data)\n",
    "\n",
    "# reshape the array as we are predicting for one instance\n",
    "input_data_reshaped = input_data_as_numpy_array.reshape(1,-1)\n",
    "\n",
    "prediction = loaded_model.predict(input_data_reshaped)\n",
    "print(prediction)\n",
    "\n",
    "if (prediction[0] == \"Mitochondrial genetic inheritance disorders\"):\n",
    "  print('The person has a Genetic Retinal Disease')\n",
    "elif(prediction[0] ==\"Single-gene inheritance diseases\" ):\n",
    "  print('The person has a Genetic Retinal Disease')\n",
    "elif(prediction[0] ==\"Multifactorial genetic inheritance disorders\"):\n",
    "  print('The person has a Genetic Retinal Diseasase')\n",
    "else:\n",
    "  print('The person doesnot have a genetic disease')"
   ]
  }
 ],
 "metadata": {
  "colab": {
   "provenance": []
  },
  "kernelspec": {
   "display_name": "base",
   "language": "python",
   "name": "python3"
  },
  "language_info": {
   "codemirror_mode": {
    "name": "ipython",
    "version": 3
   },
   "file_extension": ".py",
   "mimetype": "text/x-python",
   "name": "python",
   "nbconvert_exporter": "python",
   "pygments_lexer": "ipython3",
   "version": "3.9.13"
  },
  "vscode": {
   "interpreter": {
    "hash": "5ae58900cfbb8c43ab3495913814b7cf26024f51651a94ce8bf64d6111688e8d"
   }
  }
 },
 "nbformat": 4,
 "nbformat_minor": 1
}
